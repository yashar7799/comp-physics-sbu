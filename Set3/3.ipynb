{
 "cells": [
  {
   "cell_type": "code",
   "execution_count": 26,
   "metadata": {},
   "outputs": [],
   "source": [
    "import numpy as np\n",
    "import matplotlib.pyplot as plt\n",
    "import bisect"
   ]
  },
  {
   "cell_type": "code",
   "execution_count": 27,
   "metadata": {},
   "outputs": [],
   "source": [
    "def sin_x_2(x):\n",
    "    return np.sin(x**2)"
   ]
  },
  {
   "cell_type": "code",
   "execution_count": 28,
   "metadata": {},
   "outputs": [],
   "source": [
    "x_i = np.sort(np.random.uniform(0, 3, 30))\n",
    "f_i = sin_x_2(x_i)"
   ]
  },
  {
   "cell_type": "code",
   "execution_count": 29,
   "metadata": {},
   "outputs": [
    {
     "data": {
      "text/plain": [
       "<matplotlib.collections.PathCollection at 0x7f28804dd280>"
      ]
     },
     "execution_count": 29,
     "metadata": {},
     "output_type": "execute_result"
    },
    {
     "data": {
      "image/png": "[encoded data removed]",
      "text/plain": [
       "<Figure size 432x288 with 1 Axes>"
      ]
     },
     "metadata": {
      "needs_background": "light"
     },
     "output_type": "display_data"
    }
   ],
   "source": [
    "plt.scatter(x_i, f_i)"
   ]
  },
  {
   "cell_type": "code",
   "execution_count": 30,
   "metadata": {},
   "outputs": [
    {
     "data": {
      "text/plain": [
       "array([0.139339  , 0.21545328, 0.25551953, 0.30059465, 0.46362601,\n",
       "       0.53964596, 0.66674503, 0.73498258, 0.99775005, 1.07543825,\n",
       "       1.2135238 , 1.33624561, 1.45289147, 1.45821321, 1.59508514,\n",
       "       1.63249039, 1.75895037, 1.88013674, 1.91848851, 2.05640918,\n",
       "       2.1842035 , 2.22508301, 2.28708981, 2.35597526, 2.46302005,\n",
       "       2.5520935 , 2.60465104, 2.78441861, 2.89513941, 2.90171682])"
      ]
     },
     "execution_count": 30,
     "metadata": {},
     "output_type": "execute_result"
    }
   ],
   "source": [
    "x_i"
   ]
  },
  {
   "cell_type": "code",
   "execution_count": 31,
   "metadata": {},
   "outputs": [],
   "source": [
    "def find_nearest_neghbors(x_i_array, n, x):\n",
    "    neighbors = []\n",
    "\n",
    "    n_right = n_left = n//2\n",
    "    index_of_first_right_neighbor = bisect.bisect_right(x_i, x)\n",
    "    if 0 <= index_of_first_right_neighbor <= len(x_i_array) - 1:\n",
    "        neighbors.append((index_of_first_right_neighbor, x_i_array[index_of_first_right_neighbor]))\n",
    "\n",
    "    while n_right != 0:\n",
    "        index = index_of_first_right_neighbor + n_right\n",
    "        if index <= len(x_i_array) - 1:\n",
    "            neighbors.append((index, x_i[index]))\n",
    "        n_right -= 1\n",
    "\n",
    "    while n_left != 0:\n",
    "        index = index_of_first_right_neighbor - n_left\n",
    "        if index >= 0:\n",
    "            neighbors.append((index, x_i[index]))\n",
    "        n_left -= 1\n",
    "    \n",
    "    return neighbors"
   ]
  },
  {
   "cell_type": "code",
   "execution_count": 33,
   "metadata": {},
   "outputs": [],
   "source": [
    "def P(x, x_j, neighbors):\n",
    "    pi = 1\n",
    "    for _, x_k in neighbors:\n",
    "        if x_j != x_k:\n",
    "            pi *= (x - x_k) / (x_j - x_k)\n",
    "\n",
    "    return pi"
   ]
  },
  {
   "cell_type": "code",
   "execution_count": 72,
   "metadata": {},
   "outputs": [],
   "source": [
    "x_i = np.sort(np.random.uniform(0, 3, 30))\n",
    "f_i = sin_x_2(x_i)\n",
    "\n",
    "# f_i with noise:\n",
    "n_noise = 1\n",
    "random_indices = np.random.randint(0, len(f_i), size=n_noise)\n",
    "for i in random_indices:\n",
    "    f_i[i] = np.random.uniform(-1, 1)"
   ]
  },
  {
   "cell_type": "code",
   "execution_count": 77,
   "metadata": {},
   "outputs": [],
   "source": [
    "X = np.linspace(0, 3, 100)\n",
    "n = 5\n",
    "\n",
    "f_x = []\n",
    "for x in X:\n",
    "    summation = 0\n",
    "\n",
    "    neighbors = find_nearest_neghbors(x_i, n, x)\n",
    "    for j, x_j in neighbors:\n",
    "        summation += f_i[j] * P(x, x_j, neighbors)\n",
    "\n",
    "    f_x.append(summation)"
   ]
  },
  {
   "cell_type": "code",
   "execution_count": 78,
   "metadata": {},
   "outputs": [
    {
     "data": {
      "text/plain": [
       "<matplotlib.legend.Legend at 0x7f287fc1bd00>"
      ]
     },
     "execution_count": 78,
     "metadata": {},
     "output_type": "execute_result"
    },
    {
     "data": {
      "image/png": "[encoded data removed]",
      "text/plain": [
       "<Figure size 432x288 with 1 Axes>"
      ]
     },
     "metadata": {
      "needs_background": "light"
     },
     "output_type": "display_data"
    }
   ],
   "source": [
    "plt.scatter(x_i, f_i, c='red', label='data points')\n",
    "plt.plot(X, sin_x_2(X), c='red', label='function')\n",
    "plt.plot(X, f_x, c='green', label='fitted function')\n",
    "plt.legend()"
   ]
  },
  {
   "cell_type": "code",
   "execution_count": null,
   "metadata": {},
   "outputs": [],
   "source": []
  }
 ],
 "metadata": {
  "kernelspec": {
   "display_name": "base",
   "language": "python",
   "name": "python3"
  },
  "language_info": {
   "codemirror_mode": {
    "name": "ipython",
    "version": 3
   },
   "file_extension": ".py",
   "mimetype": "text/x-python",
   "name": "python",
   "nbconvert_exporter": "python",
   "pygments_lexer": "ipython3",
   "version": "3.8.16"
  }
 },
 "nbformat": 4,
 "nbformat_minor": 2
}
