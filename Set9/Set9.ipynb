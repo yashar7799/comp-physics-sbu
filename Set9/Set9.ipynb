{
 "cells": [
  {
   "cell_type": "code",
   "execution_count": 9,
   "metadata": {},
   "outputs": [],
   "source": [
    "import numpy as np\n",
    "import matplotlib.pyplot as plt\n",
    "from numba import njit"
   ]
  },
  {
   "cell_type": "code",
   "execution_count": 10,
   "metadata": {},
   "outputs": [],
   "source": [
    "@njit\n",
    "def lattice_maker(lattice_size):\n",
    "    lattice_array = 2*np.random.randint(0, 2, size=lattice_size) - 1\n",
    "\n",
    "    return lattice_array\n",
    "\n",
    "@njit\n",
    "def E_spin(lattice_array, lattice_size, x):\n",
    "    return -1 * lattice_array[x] * (lattice_array[(x + 1) % lattice_size] +\n",
    "                                    lattice_array[(x - 1) % lattice_size])"
   ]
  },
  {
   "cell_type": "code",
   "execution_count": 26,
   "metadata": {},
   "outputs": [],
   "source": [
    "@njit\n",
    "def metropolis(lattice_size, T, n_ens):\n",
    "    M_array = np.empty(n_ens)\n",
    "\n",
    "    for ens in range(n_ens):\n",
    "        lattice_array = lattice_maker(lattice_size)\n",
    "        for _ in range(lattice_size**3):\n",
    "            x = np.random.randint(0, lattice_size)\n",
    "\n",
    "            dE = -2 * E_spin(lattice_array, lattice_size, x)\n",
    "\n",
    "            if dE <= 0:\n",
    "                lattice_array[x] *= -1\n",
    "            elif np.random.random() < np.exp(-(dE/T)):\n",
    "                lattice_array[x] *= -1\n",
    "        \n",
    "        M = np.abs(np.sum(lattice_array))\n",
    "        M_array[ens] = M\n",
    "    \n",
    "    return np.mean(M_array)"
   ]
  },
  {
   "cell_type": "code",
   "execution_count": 21,
   "metadata": {},
   "outputs": [],
   "source": [
    "T_array = np.linspace(0.01, 4, 40)"
   ]
  },
  {
   "cell_type": "code",
   "execution_count": 27,
   "metadata": {},
   "outputs": [],
   "source": [
    "lattice_size = 128\n",
    "n_ens = 25\n",
    "\n",
    "M_array = []\n",
    "\n",
    "for T in T_array:\n",
    "    M = metropolis(lattice_size, T, n_ens)\n",
    "    \n",
    "    M_array.append(M)"
   ]
  },
  {
   "cell_type": "code",
   "execution_count": 28,
   "metadata": {},
   "outputs": [],
   "source": [
    "M_array = [M/lattice_size for M in M_array]"
   ]
  },
  {
   "cell_type": "code",
   "execution_count": 29,
   "metadata": {},
   "outputs": [
    {
     "data": {
      "text/plain": [
       "<matplotlib.collections.PathCollection at 0x7f4cd5f904f0>"
      ]
     },
     "execution_count": 29,
     "metadata": {},
     "output_type": "execute_result"
    },
    {
     "data": {
      "image/png": "[encoded data removed]",
      "text/plain": [
       "<Figure size 432x288 with 1 Axes>"
      ]
     },
     "metadata": {
      "needs_background": "light"
     },
     "output_type": "display_data"
    }
   ],
   "source": [
    "plt.scatter(T_array, M_array)"
   ]
  },
  {
   "cell_type": "code",
   "execution_count": null,
   "metadata": {},
   "outputs": [],
   "source": []
  }
 ],
 "metadata": {
  "kernelspec": {
   "display_name": "base",
   "language": "python",
   "name": "python3"
  },
  "language_info": {
   "codemirror_mode": {
    "name": "ipython",
    "version": 3
   },
   "file_extension": ".py",
   "mimetype": "text/x-python",
   "name": "python",
   "nbconvert_exporter": "python",
   "pygments_lexer": "ipython3",
   "version": "3.8.16"
  }
 },
 "nbformat": 4,
 "nbformat_minor": 2
}
