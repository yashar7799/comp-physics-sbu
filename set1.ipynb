{
 "cells": [
  {
   "cell_type": "code",
   "execution_count": 1,
   "metadata": {},
   "outputs": [],
   "source": [
    "import numpy as np\n",
    "import matplotlib.pyplot as plt\n",
    "from numba import njit"
   ]
  },
  {
   "cell_type": "markdown",
   "metadata": {},
   "source": [
    "# RD:"
   ]
  },
  {
   "cell_type": "markdown",
   "metadata": {},
   "source": [
    "## 1D:"
   ]
  },
  {
   "cell_type": "code",
   "execution_count": 55,
   "metadata": {},
   "outputs": [],
   "source": [
    "@njit\n",
    "def RD(N, L):\n",
    "  h = np.zeros(L)\n",
    "  h_mean = np.empty(N)\n",
    "  w = np.empty(N)\n",
    "\n",
    "  for t in range(N):\n",
    "    i = np.random.randint(L)\n",
    "    h[i] += 1\n",
    "    h_mean[t] = np.mean(h)\n",
    "    w[t] = np.sqrt(np.sum((h - h_mean[t])**2) / L)\n",
    "\n",
    "  return w"
   ]
  },
  {
   "cell_type": "code",
   "execution_count": 62,
   "metadata": {},
   "outputs": [
    {
     "data": {
      "text/plain": [
       "<matplotlib.collections.PathCollection at 0x7fdca5b2fe80>"
      ]
     },
     "execution_count": 62,
     "metadata": {},
     "output_type": "execute_result"
    },
    {
     "data": {
      "image/png": "[encoded data removed]",
      "text/plain": [
       "<Figure size 432x288 with 1 Axes>"
      ]
     },
     "metadata": {
      "needs_background": "light"
     },
     "output_type": "display_data"
    }
   ],
   "source": [
    "N = 500000\n",
    "L = 128\n",
    "\n",
    "w = RD(N, L)\n",
    "\n",
    "plt.scatter(range(N), w, marker='.', s=1)\n",
    "# plt.loglog()"
   ]
  },
  {
   "cell_type": "markdown",
   "metadata": {},
   "source": [
    "# RDR:"
   ]
  },
  {
   "cell_type": "markdown",
   "metadata": {},
   "source": [
    "## 2D:"
   ]
  },
  {
   "cell_type": "code",
   "execution_count": 57,
   "metadata": {},
   "outputs": [],
   "source": [
    "@njit\n",
    "def RDR(N, L):\n",
    "  h = np.zeros((L, L))\n",
    "  h_mean = np.empty(N)\n",
    "  w = np.empty(N)\n",
    "\n",
    "  for t in range(N):\n",
    "    i = np.random.randint(L)\n",
    "    j = np.random.randint(L)\n",
    "    neighbors = [h[(i - 1) % L][j], h[(i + 1) % L][j], h[i][(j - 1) % L], h[i][(j + 1) % L], h[i][j] + 1]\n",
    "    h[i][j] = neighbors.index(min(neighbors))\n",
    "    h_mean[t] = np.mean(h)\n",
    "    w[t] = np.sqrt(np.sum((h - h_mean[t])**2) / (L**2))\n",
    "\n",
    "  return w"
   ]
  },
  {
   "cell_type": "code",
   "execution_count": 58,
   "metadata": {},
   "outputs": [
    {
     "name": "stderr",
     "output_type": "stream",
     "text": [
      "/tmp/ipykernel_17311/1444336481.py:7: UserWarning: Data has no positive values, and therefore cannot be log-scaled.\n",
      "  plt.loglog()\n"
     ]
    },
    {
     "data": {
      "text/plain": [
       "[]"
      ]
     },
     "execution_count": 58,
     "metadata": {},
     "output_type": "execute_result"
    },
    {
     "name": "stderr",
     "output_type": "stream",
     "text": [
      "/home/yashar/.local/lib/python3.8/site-packages/IPython/core/events.py:89: UserWarning: Data has no positive values, and therefore cannot be log-scaled.\n",
      "  func(*args, **kwargs)\n"
     ]
    },
    {
     "data": {
      "image/png": "[encoded data removed]",
      "text/plain": [
       "<Figure size 432x288 with 1 Axes>"
      ]
     },
     "metadata": {
      "needs_background": "light"
     },
     "output_type": "display_data"
    }
   ],
   "source": [
    "N = 5000\n",
    "L = 32\n",
    "\n",
    "w = RDR(N, L)\n",
    "\n",
    "plt.scatter(range(N), w, marker='.', s=1)\n",
    "plt.loglog()"
   ]
  },
  {
   "cell_type": "markdown",
   "metadata": {},
   "source": [
    "# BD (or KPZ)"
   ]
  },
  {
   "cell_type": "markdown",
   "metadata": {},
   "source": [
    "## 1D:"
   ]
  },
  {
   "cell_type": "code",
   "execution_count": 13,
   "metadata": {},
   "outputs": [],
   "source": [
    "@njit\n",
    "def BD_1D(N, L):\n",
    "  h = np.zeros(L)\n",
    "  h_mean = np.empty(N)\n",
    "  w = np.empty(N)\n",
    "\n",
    "  for t in range(N):\n",
    "    i = np.random.randint(L)\n",
    "    h[i] = max([h[(i - 1) % L], h[(i + 1) % L], h[i] + 1])\n",
    "    h_mean[t] = np.mean(h)\n",
    "    w[t] = np.sqrt(np.sum((h - h_mean[t])**2) / (L**2))\n",
    "\n",
    "  return w"
   ]
  },
  {
   "cell_type": "code",
   "execution_count": 15,
   "metadata": {},
   "outputs": [
    {
     "data": {
      "text/plain": [
       "[]"
      ]
     },
     "execution_count": 15,
     "metadata": {},
     "output_type": "execute_result"
    },
    {
     "data": {
      "image/png": "[encoded data removed]",
      "text/plain": [
       "<Figure size 432x288 with 1 Axes>"
      ]
     },
     "metadata": {
      "needs_background": "light"
     },
     "output_type": "display_data"
    }
   ],
   "source": [
    "# N = 50000\n",
    "\n",
    "for L in [16, 32, 64]:\n",
    "    w = BD_1D(L, L)\n",
    "\n",
    "    plt.plot(w, marker='.')\n",
    "\n",
    "plt.loglog()\n",
    "# plt.xscale('log')"
   ]
  },
  {
   "cell_type": "markdown",
   "metadata": {},
   "source": [
    "## 2D:"
   ]
  },
  {
   "cell_type": "code",
   "execution_count": 6,
   "metadata": {},
   "outputs": [],
   "source": [
    "@njit\n",
    "def BD(N, L):\n",
    "  h = np.zeros((L, L))\n",
    "  h_mean = np.empty(N)\n",
    "  w = np.empty(N)\n",
    "\n",
    "  for t in range(N):\n",
    "    i = np.random.randint(L)\n",
    "    j = np.random.randint(L)\n",
    "    h[i][j] = max([h[(i - 1) % L][j], h[(i + 1) % L][j], h[i][(j - 1) % L], h[i][(j + 1) % L], h[i][j] + 1])\n",
    "    h_mean[t] = np.mean(h)\n",
    "    w[t] = np.sqrt(np.sum((h - h_mean[t])**2))\n",
    "\n",
    "  return w"
   ]
  },
  {
   "cell_type": "code",
   "execution_count": 7,
   "metadata": {},
   "outputs": [
    {
     "data": {
      "text/plain": [
       "[]"
      ]
     },
     "execution_count": 7,
     "metadata": {},
     "output_type": "execute_result"
    },
    {
     "data": {
      "image/png": "[encoded data removed]",
      "text/plain": [
       "<Figure size 432x288 with 1 Axes>"
      ]
     },
     "metadata": {
      "needs_background": "light"
     },
     "output_type": "display_data"
    }
   ],
   "source": [
    "# N = 50000\n",
    "\n",
    "for L in [16, 32, 64]:\n",
    "    w = BD(L**3, L)\n",
    "\n",
    "    plt.plot(w, marker='.')\n",
    "\n",
    "plt.loglog()\n",
    "# plt.xscale('log')"
   ]
  },
  {
   "cell_type": "code",
   "execution_count": null,
   "metadata": {},
   "outputs": [],
   "source": []
  }
 ],
 "metadata": {
  "kernelspec": {
   "display_name": "base",
   "language": "python",
   "name": "python3"
  },
  "language_info": {
   "codemirror_mode": {
    "name": "ipython",
    "version": 3
   },
   "file_extension": ".py",
   "mimetype": "text/x-python",
   "name": "python",
   "nbconvert_exporter": "python",
   "pygments_lexer": "ipython3",
   "version": "3.8.16"
  }
 },
 "nbformat": 4,
 "nbformat_minor": 2
}
